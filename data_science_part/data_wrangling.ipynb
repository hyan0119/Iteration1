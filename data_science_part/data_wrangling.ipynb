{
 "cells": [
  {
   "metadata": {},
   "cell_type": "markdown",
   "source": "# 1. Importing Libraries"
  },
  {
   "metadata": {},
   "cell_type": "markdown",
   "source": "install geopandas module"
  },
  {
   "cell_type": "code",
   "metadata": {
    "ExecuteTime": {
     "end_time": "2024-04-22T03:17:40.725016Z",
     "start_time": "2024-04-22T03:17:38.690648Z"
    }
   },
   "source": "pip install geopandas",
   "outputs": [
    {
     "name": "stdout",
     "output_type": "stream",
     "text": [
      "Requirement already satisfied: geopandas in /Users/ren170904/anaconda3/lib/python3.11/site-packages (0.14.3)\r\n",
      "Requirement already satisfied: fiona>=1.8.21 in /Users/ren170904/anaconda3/lib/python3.11/site-packages (from geopandas) (1.9.6)\r\n",
      "Requirement already satisfied: packaging in /Users/ren170904/anaconda3/lib/python3.11/site-packages (from geopandas) (23.0)\r\n",
      "Requirement already satisfied: pandas>=1.4.0 in /Users/ren170904/anaconda3/lib/python3.11/site-packages (from geopandas) (1.5.3)\r\n",
      "Requirement already satisfied: pyproj>=3.3.0 in /Users/ren170904/anaconda3/lib/python3.11/site-packages (from geopandas) (3.6.1)\r\n",
      "Requirement already satisfied: shapely>=1.8.0 in /Users/ren170904/anaconda3/lib/python3.11/site-packages (from geopandas) (2.0.3)\r\n",
      "Requirement already satisfied: attrs>=19.2.0 in /Users/ren170904/anaconda3/lib/python3.11/site-packages (from fiona>=1.8.21->geopandas) (22.1.0)\r\n",
      "Requirement already satisfied: certifi in /Users/ren170904/anaconda3/lib/python3.11/site-packages (from fiona>=1.8.21->geopandas) (2023.7.22)\r\n",
      "Requirement already satisfied: click~=8.0 in /Users/ren170904/anaconda3/lib/python3.11/site-packages (from fiona>=1.8.21->geopandas) (8.0.4)\r\n",
      "Requirement already satisfied: click-plugins>=1.0 in /Users/ren170904/anaconda3/lib/python3.11/site-packages (from fiona>=1.8.21->geopandas) (1.1.1)\r\n",
      "Requirement already satisfied: cligj>=0.5 in /Users/ren170904/anaconda3/lib/python3.11/site-packages (from fiona>=1.8.21->geopandas) (0.7.2)\r\n",
      "Requirement already satisfied: six in /Users/ren170904/anaconda3/lib/python3.11/site-packages (from fiona>=1.8.21->geopandas) (1.16.0)\r\n",
      "Requirement already satisfied: python-dateutil>=2.8.1 in /Users/ren170904/anaconda3/lib/python3.11/site-packages (from pandas>=1.4.0->geopandas) (2.8.2)\r\n",
      "Requirement already satisfied: pytz>=2020.1 in /Users/ren170904/anaconda3/lib/python3.11/site-packages (from pandas>=1.4.0->geopandas) (2022.7)\r\n",
      "Requirement already satisfied: numpy>=1.21.0 in /Users/ren170904/anaconda3/lib/python3.11/site-packages (from pandas>=1.4.0->geopandas) (1.24.3)\r\n",
      "Note: you may need to restart the kernel to use updated packages.\n"
     ]
    }
   ],
   "execution_count": 2
  },
  {
   "metadata": {
    "ExecuteTime": {
     "end_time": "2024-04-22T03:17:48.658746Z",
     "start_time": "2024-04-22T03:17:48.656341Z"
    }
   },
   "cell_type": "code",
   "source": "import geopandas as gpd",
   "outputs": [],
   "execution_count": 4
  },
  {
   "metadata": {
    "ExecuteTime": {
     "end_time": "2024-04-22T03:37:28.705912Z",
     "start_time": "2024-04-22T03:37:26.635231Z"
    }
   },
   "cell_type": "code",
   "source": "pip install pandas",
   "outputs": [
    {
     "name": "stdout",
     "output_type": "stream",
     "text": [
      "Requirement already satisfied: pandas in /Users/ren170904/anaconda3/lib/python3.11/site-packages (1.5.3)\r\n",
      "Requirement already satisfied: python-dateutil>=2.8.1 in /Users/ren170904/anaconda3/lib/python3.11/site-packages (from pandas) (2.8.2)\r\n",
      "Requirement already satisfied: pytz>=2020.1 in /Users/ren170904/anaconda3/lib/python3.11/site-packages (from pandas) (2022.7)\r\n",
      "Requirement already satisfied: numpy>=1.21.0 in /Users/ren170904/anaconda3/lib/python3.11/site-packages (from pandas) (1.24.3)\r\n",
      "Requirement already satisfied: six>=1.5 in /Users/ren170904/anaconda3/lib/python3.11/site-packages (from python-dateutil>=2.8.1->pandas) (1.16.0)\r\n",
      "Note: you may need to restart the kernel to use updated packages.\n"
     ]
    }
   ],
   "execution_count": 16
  },
  {
   "metadata": {
    "ExecuteTime": {
     "end_time": "2024-04-22T03:37:34.001238Z",
     "start_time": "2024-04-22T03:37:33.998349Z"
    }
   },
   "cell_type": "code",
   "source": "import pandas as pd",
   "outputs": [],
   "execution_count": 17
  },
  {
   "metadata": {},
   "cell_type": "markdown",
   "source": "# 2. Reading files"
  },
  {
   "metadata": {
    "ExecuteTime": {
     "end_time": "2024-04-22T03:30:32.519198Z",
     "start_time": "2024-04-22T03:29:48.957635Z"
    }
   },
   "cell_type": "code",
   "source": [
    "# load datasets from building folder\n",
    "building_info = gpd.read_file('./datasets/building_2023/2022_building_info.geojson')\n",
    "\n",
    "residential = gpd.read_file('./datasets/building_2023/2022_residential.geojson')\n",
    "\n",
    "building = gpd.read_file('./datasets/building_2023/2023_building.geojson')"
   ],
   "outputs": [],
   "execution_count": 12
  },
  {
   "metadata": {
    "ExecuteTime": {
     "end_time": "2024-04-22T03:32:40.989816Z",
     "start_time": "2024-04-22T03:32:20.249129Z"
    }
   },
   "cell_type": "code",
   "source": [
    "# load datasets from canopy folder\n",
    "canopy = gpd.read_file('./datasets/canopy_2021/2021_tree_canopies.geojson')\n",
    "\n",
    "dimention = gpd.read_file('./datasets/canopy_2021/2021_trees_dimension.geojson')"
   ],
   "outputs": [],
   "execution_count": 14
  },
  {
   "metadata": {
    "ExecuteTime": {
     "end_time": "2024-04-22T03:34:19.622329Z",
     "start_time": "2024-04-22T03:34:13.110785Z"
    }
   },
   "cell_type": "code",
   "source": [
    "# load datasets from footpath folder\n",
    "footpath = gpd.read_file('./datasets/Footpath_2023/2015_footpaths.geojson')\n",
    "\n",
    "steepness = gpd.read_file('./datasets/Footpath_2023/2023_footpath_steepness.geojson')"
   ],
   "outputs": [],
   "execution_count": 15
  },
  {
   "metadata": {
    "ExecuteTime": {
     "end_time": "2024-04-22T03:38:50.484266Z",
     "start_time": "2024-04-22T03:38:50.103367Z"
    }
   },
   "cell_type": "code",
   "source": [
    "# load datasets from microclimate folder\n",
    "sensor_loc = gpd.read_file('./datasets/microclimate_sensor_2024/2021_microclimate_sensor_loc.geojson')\n",
    "\n",
    "sensor_reading = pd.read_csv('./datasets/microclimate_sensor_2024/2023_microclimate_sensor_reading.csv')\n",
    "\n",
    "realtime_sensor_reading = pd.read_csv('./datasets/microclimate_sensor_2024/2024_all_sensors_real-time.geojson')"
   ],
   "outputs": [],
   "execution_count": 18
  },
  {
   "metadata": {
    "ExecuteTime": {
     "end_time": "2024-04-22T03:39:44.499927Z",
     "start_time": "2024-04-22T03:39:35.629Z"
    }
   },
   "cell_type": "code",
   "source": [
    "# load datasets from road folder\n",
    "road = gpd.read_file('./datasets/road_2020/2020_road.geojson')"
   ],
   "outputs": [],
   "execution_count": 19
  },
  {
   "metadata": {},
   "cell_type": "code",
   "outputs": [],
   "execution_count": null,
   "source": ""
  }
 ],
 "metadata": {
  "language_info": {
   "name": "python"
  },
  "kernelspec": {
   "name": "python3",
   "language": "python",
   "display_name": "Python 3 (ipykernel)"
  }
 },
 "nbformat": 4,
 "nbformat_minor": 2
}
