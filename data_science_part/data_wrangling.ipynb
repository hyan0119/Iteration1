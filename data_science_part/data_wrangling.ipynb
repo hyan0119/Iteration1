{
 "cells": [
  {
   "metadata": {},
   "cell_type": "markdown",
   "source": "# 1. Importing Libraries"
  },
  {
   "metadata": {},
   "cell_type": "markdown",
   "source": "install geopandas module"
  },
  {
   "cell_type": "code",
   "metadata": {
    "jupyter": {
     "is_executing": true
    },
    "ExecuteTime": {
     "start_time": "2024-04-22T09:22:02.976547Z"
    }
   },
   "source": "pip install geopandas",
   "outputs": [],
   "execution_count": null
  },
  {
   "metadata": {
    "jupyter": {
     "is_executing": true
    },
    "ExecuteTime": {
     "start_time": "2024-04-22T09:22:05.140548Z"
    }
   },
   "cell_type": "code",
   "source": "import geopandas as gpd",
   "outputs": [],
   "execution_count": null
  },
  {
   "metadata": {
    "jupyter": {
     "is_executing": true
    },
    "ExecuteTime": {
     "start_time": "2024-04-22T09:22:05.143677Z"
    }
   },
   "cell_type": "code",
   "source": "pip install pandas",
   "outputs": [],
   "execution_count": null
  },
  {
   "metadata": {
    "jupyter": {
     "is_executing": true
    },
    "ExecuteTime": {
     "start_time": "2024-04-22T09:22:06.891297Z"
    }
   },
   "cell_type": "code",
   "source": "import pandas as pd",
   "outputs": [],
   "execution_count": null
  },
  {
   "metadata": {},
   "cell_type": "markdown",
   "source": "# 2. Reading files"
  },
  {
   "metadata": {
    "jupyter": {
     "is_executing": true
    },
    "ExecuteTime": {
     "start_time": "2024-04-22T09:22:06.894804Z"
    }
   },
   "cell_type": "code",
   "source": [
    "# load datasets from building folder\n",
    "building_info = gpd.read_file('./datasets/building_2023/2022_building_info.geojson')\n",
    "\n",
    "residential = gpd.read_file('./datasets/building_2023/2022_residential.geojson')\n",
    "\n",
    "building = gpd.read_file('./datasets/building_2023/2023_building.geojson')"
   ],
   "outputs": [],
   "execution_count": null
  },
  {
   "metadata": {},
   "cell_type": "code",
   "source": [
    "# load datasets from canopy folder\n",
    "canopy = gpd.read_file('./datasets/canopy_2021/2021_tree_canopies.geojson')\n",
    "\n",
    "dimention = gpd.read_file('./datasets/canopy_2021/2021_trees_dimension.geojson')"
   ],
   "outputs": [],
   "execution_count": null
  },
  {
   "metadata": {},
   "cell_type": "code",
   "source": [
    "# load datasets from footpath folder\n",
    "footpath = gpd.read_file('./datasets/Footpath_2023/2015_footpaths.geojson')\n",
    "\n",
    "steepness = gpd.read_file('./datasets/Footpath_2023/2023_footpath_steepness.geojson')"
   ],
   "outputs": [],
   "execution_count": null
  },
  {
   "metadata": {},
   "cell_type": "code",
   "source": [
    "# load datasets from microclimate folder\n",
    "sensor_loc = gpd.read_file('./datasets/microclimate_sensor_2024/2021_microclimate_sensor_loc.geojson')\n",
    "\n",
    "sensor_reading = pd.read_csv('./datasets/microclimate_sensor_2024/2023_microclimate_sensor_reading.csv')\n",
    "\n",
    "realtime_sensor_reading = pd.read_csv('./datasets/microclimate_sensor_2024/2024_all_sensors_real-time.geojson')"
   ],
   "outputs": [],
   "execution_count": null
  },
  {
   "metadata": {},
   "cell_type": "code",
   "source": [
    "# load datasets from road folder\n",
    "road = gpd.read_file('./datasets/road_2020/2020_road.geojson')"
   ],
   "outputs": [],
   "execution_count": null
  },
  {
   "metadata": {},
   "cell_type": "markdown",
   "source": "# 3. Data Exploration"
  },
  {
   "metadata": {},
   "cell_type": "code",
   "source": "residential.count()",
   "outputs": [],
   "execution_count": null
  },
  {
   "metadata": {},
   "cell_type": "code",
   "source": "building_info.head()",
   "outputs": [],
   "execution_count": null
  },
  {
   "metadata": {},
   "cell_type": "code",
   "source": "building_info.head(20)",
   "outputs": [],
   "execution_count": null
  },
  {
   "metadata": {},
   "cell_type": "code",
   "source": "residential.head(10)",
   "outputs": [],
   "execution_count": null
  },
  {
   "metadata": {},
   "cell_type": "code",
   "source": "building.head()",
   "outputs": [],
   "execution_count": null
  },
  {
   "metadata": {},
   "cell_type": "markdown",
   "source": "# 4. Data Integration"
  },
  {
   "metadata": {},
   "cell_type": "code",
   "source": "  import re",
   "outputs": [],
   "execution_count": null
  },
  {
   "metadata": {},
   "cell_type": "code",
   "source": "merged_gdf = building_info.sjoin(residential, how='left', op='within')",
   "outputs": [],
   "execution_count": null
  },
  {
   "metadata": {},
   "cell_type": "code",
   "source": [
    "merged_gdf['postcode'] = merged_gdf['street_address'].apply(lambda x: re.findall(r'\\d{4}', x))\n",
    "merged_gdf['postcode'] = merged_gdf['postcode'].apply(lambda x: x[0] if len(x) > 0 else None)"
   ],
   "outputs": [],
   "execution_count": null
  },
  {
   "metadata": {},
   "cell_type": "code",
   "source": "merged_gdf = merged_gdf.drop_duplicates(subset=['property_id_left'])",
   "outputs": [],
   "execution_count": null
  },
  {
   "metadata": {},
   "cell_type": "code",
   "source": "merged_gdf.head()",
   "outputs": [],
   "execution_count": null
  },
  {
   "metadata": {},
   "cell_type": "code",
   "source": "merged_gdf.count()",
   "outputs": [],
   "execution_count": null
  },
  {
   "metadata": {},
   "cell_type": "code",
   "source": "merged_gdf = merged_gdf.drop(columns=['index_right'])",
   "outputs": [],
   "execution_count": null
  },
  {
   "metadata": {},
   "cell_type": "code",
   "source": "df_building = gpd.sjoin(merged_gdf, building, how='left', op='within')",
   "outputs": [],
   "execution_count": null
  },
  {
   "metadata": {},
   "cell_type": "code",
   "source": "df_building.head()",
   "outputs": [],
   "execution_count": null
  },
  {
   "metadata": {
    "ExecuteTime": {
     "end_time": "2024-04-22T09:22:02.868962Z",
     "start_time": "2024-04-22T09:22:02.863208Z"
    }
   },
   "cell_type": "code",
   "source": "building.head()",
   "outputs": [
    {
     "data": {
      "text/plain": [
       "                                        geo_point_2d objectid structure_id  \\\n",
       "0  {'lon': 144.95729073971657, 'lat': -37.7880585...    37005       809169   \n",
       "1  {'lon': 144.95763290112558, 'lat': -37.7880343...    37007       809169   \n",
       "2  {'lon': 144.95736652227484, 'lat': -37.7880519...    37008       809169   \n",
       "3  {'lon': 144.97930388437058, 'lat': -37.8371529...    37010       802864   \n",
       "4  {'lon': 144.97925051556004, 'lat': -37.8372373...    37011       802864   \n",
       "\n",
       "  footprint_type roof_type  footprint_max_elevation  footprint_min_elevation  \\\n",
       "0      Structure      Flat                     57.5                     44.5   \n",
       "1      Structure     Gable                     50.5                     44.0   \n",
       "2      Structure       Hip                     56.0                     45.0   \n",
       "3      Structure      Flat                     22.0                     16.5   \n",
       "4      Structure       Hip                     27.0                     24.5   \n",
       "\n",
       "   structure_max_elevation  structure_min_elevation  footprint_extrusion  \\\n",
       "0                     57.5                     44.0                 13.0   \n",
       "1                     57.5                     44.0                  6.5   \n",
       "2                     57.5                     44.0                 11.0   \n",
       "3                     28.5                     16.5                  5.5   \n",
       "4                     28.5                     16.5                  2.5   \n",
       "\n",
       "   structure_extrusion date_captured  \\\n",
       "0                 13.5      20180528   \n",
       "1                  6.5      20180528   \n",
       "2                 12.0      20180528   \n",
       "3                  5.5      20180528   \n",
       "4                 10.5      20180528   \n",
       "\n",
       "                                            geometry  \n",
       "0  POLYGON ((144.95732 -37.78811, 144.95730 -37.7...  \n",
       "1  POLYGON ((144.95766 -37.78802, 144.95761 -37.7...  \n",
       "2  POLYGON ((144.95743 -37.78805, 144.95742 -37.7...  \n",
       "3  POLYGON ((144.97949 -37.83703, 144.97942 -37.8...  \n",
       "4  POLYGON ((144.97920 -37.83719, 144.97919 -37.8...  "
      ],
      "text/html": [
       "<div>\n",
       "<style scoped>\n",
       "    .dataframe tbody tr th:only-of-type {\n",
       "        vertical-align: middle;\n",
       "    }\n",
       "\n",
       "    .dataframe tbody tr th {\n",
       "        vertical-align: top;\n",
       "    }\n",
       "\n",
       "    .dataframe thead th {\n",
       "        text-align: right;\n",
       "    }\n",
       "</style>\n",
       "<table border=\"1\" class=\"dataframe\">\n",
       "  <thead>\n",
       "    <tr style=\"text-align: right;\">\n",
       "      <th></th>\n",
       "      <th>geo_point_2d</th>\n",
       "      <th>objectid</th>\n",
       "      <th>structure_id</th>\n",
       "      <th>footprint_type</th>\n",
       "      <th>roof_type</th>\n",
       "      <th>footprint_max_elevation</th>\n",
       "      <th>footprint_min_elevation</th>\n",
       "      <th>structure_max_elevation</th>\n",
       "      <th>structure_min_elevation</th>\n",
       "      <th>footprint_extrusion</th>\n",
       "      <th>structure_extrusion</th>\n",
       "      <th>date_captured</th>\n",
       "      <th>geometry</th>\n",
       "    </tr>\n",
       "  </thead>\n",
       "  <tbody>\n",
       "    <tr>\n",
       "      <th>0</th>\n",
       "      <td>{'lon': 144.95729073971657, 'lat': -37.7880585...</td>\n",
       "      <td>37005</td>\n",
       "      <td>809169</td>\n",
       "      <td>Structure</td>\n",
       "      <td>Flat</td>\n",
       "      <td>57.5</td>\n",
       "      <td>44.5</td>\n",
       "      <td>57.5</td>\n",
       "      <td>44.0</td>\n",
       "      <td>13.0</td>\n",
       "      <td>13.5</td>\n",
       "      <td>20180528</td>\n",
       "      <td>POLYGON ((144.95732 -37.78811, 144.95730 -37.7...</td>\n",
       "    </tr>\n",
       "    <tr>\n",
       "      <th>1</th>\n",
       "      <td>{'lon': 144.95763290112558, 'lat': -37.7880343...</td>\n",
       "      <td>37007</td>\n",
       "      <td>809169</td>\n",
       "      <td>Structure</td>\n",
       "      <td>Gable</td>\n",
       "      <td>50.5</td>\n",
       "      <td>44.0</td>\n",
       "      <td>57.5</td>\n",
       "      <td>44.0</td>\n",
       "      <td>6.5</td>\n",
       "      <td>6.5</td>\n",
       "      <td>20180528</td>\n",
       "      <td>POLYGON ((144.95766 -37.78802, 144.95761 -37.7...</td>\n",
       "    </tr>\n",
       "    <tr>\n",
       "      <th>2</th>\n",
       "      <td>{'lon': 144.95736652227484, 'lat': -37.7880519...</td>\n",
       "      <td>37008</td>\n",
       "      <td>809169</td>\n",
       "      <td>Structure</td>\n",
       "      <td>Hip</td>\n",
       "      <td>56.0</td>\n",
       "      <td>45.0</td>\n",
       "      <td>57.5</td>\n",
       "      <td>44.0</td>\n",
       "      <td>11.0</td>\n",
       "      <td>12.0</td>\n",
       "      <td>20180528</td>\n",
       "      <td>POLYGON ((144.95743 -37.78805, 144.95742 -37.7...</td>\n",
       "    </tr>\n",
       "    <tr>\n",
       "      <th>3</th>\n",
       "      <td>{'lon': 144.97930388437058, 'lat': -37.8371529...</td>\n",
       "      <td>37010</td>\n",
       "      <td>802864</td>\n",
       "      <td>Structure</td>\n",
       "      <td>Flat</td>\n",
       "      <td>22.0</td>\n",
       "      <td>16.5</td>\n",
       "      <td>28.5</td>\n",
       "      <td>16.5</td>\n",
       "      <td>5.5</td>\n",
       "      <td>5.5</td>\n",
       "      <td>20180528</td>\n",
       "      <td>POLYGON ((144.97949 -37.83703, 144.97942 -37.8...</td>\n",
       "    </tr>\n",
       "    <tr>\n",
       "      <th>4</th>\n",
       "      <td>{'lon': 144.97925051556004, 'lat': -37.8372373...</td>\n",
       "      <td>37011</td>\n",
       "      <td>802864</td>\n",
       "      <td>Structure</td>\n",
       "      <td>Hip</td>\n",
       "      <td>27.0</td>\n",
       "      <td>24.5</td>\n",
       "      <td>28.5</td>\n",
       "      <td>16.5</td>\n",
       "      <td>2.5</td>\n",
       "      <td>10.5</td>\n",
       "      <td>20180528</td>\n",
       "      <td>POLYGON ((144.97920 -37.83719, 144.97919 -37.8...</td>\n",
       "    </tr>\n",
       "  </tbody>\n",
       "</table>\n",
       "</div>"
      ]
     },
     "execution_count": 113,
     "metadata": {},
     "output_type": "execute_result"
    }
   ],
   "execution_count": 113
  },
  {
   "metadata": {},
   "cell_type": "code",
   "source": "",
   "outputs": [],
   "execution_count": null
  }
 ],
 "metadata": {
  "language_info": {
   "name": "python"
  },
  "kernelspec": {
   "name": "python3",
   "language": "python",
   "display_name": "Python 3 (ipykernel)"
  }
 },
 "nbformat": 4,
 "nbformat_minor": 2
}
